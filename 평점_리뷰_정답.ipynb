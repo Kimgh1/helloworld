{
  "nbformat": 4,
  "nbformat_minor": 0,
  "metadata": {
    "colab": {
      "name": "평점 리뷰 정답.ipynb",
      "provenance": [],
      "include_colab_link": true
    },
    "kernelspec": {
      "name": "python3",
      "display_name": "Python 3"
    },
    "language_info": {
      "name": "python"
    }
  },
  "cells": [
    {
      "cell_type": "markdown",
      "metadata": {
        "id": "view-in-github",
        "colab_type": "text"
      },
      "source": [
        "<a href=\"https://colab.research.google.com/github/Kimgh1/helloworld/blob/main/%ED%8F%89%EC%A0%90_%EB%A6%AC%EB%B7%B0_%EC%A0%95%EB%8B%B5.ipynb\" target=\"_parent\"><img src=\"https://colab.research.google.com/assets/colab-badge.svg\" alt=\"Open In Colab\"/></a>"
      ]
    },
    {
      "cell_type": "code",
      "execution_count": null,
      "metadata": {
        "id": "WQjvxjWlay08"
      },
      "outputs": [],
      "source": [
        "import requests\n",
        "from bs4 import BeautifulSoup\n",
        "\n",
        "# '탑건 매버릭'의 네이버 영화 리뷰 링크\n",
        "url = \"https://movie.naver.com/movie/bi/mi/point.naver?code=81888\"\n",
        "# html 소스 가져오기\n",
        "res = requests.get(url)\n",
        "\n"
      ]
    },
    {
      "cell_type": "code",
      "source": [
        "\n",
        "# html 파싱\n",
        "soup = BeautifulSoup(res.text, 'lxml')\n",
        "\n",
        "# 제목 리뷰 리스트\n",
        "ul = soup.find('div', class_ = 'reporter')\n",
        "lis = ul.find_all('dd')\n",
        "\n",
        "# 내용 리뷰 리스트\n",
        "ul2 = soup.find('div', class_ = 'reporter')\n",
        "lis2 = ul2.find_all('p', class_='tx_report')\n"
      ],
      "metadata": {
        "id": "z-w9f6eQbLtv"
      },
      "execution_count": null,
      "outputs": []
    },
    {
      "cell_type": "code",
      "source": [
        "# 리뷰 제목 출력\n",
        "count=0\n",
        "for li in lis:\n",
        "    count += 1\n",
        "    print(f\"[{count}th] \",  li.string)"
      ],
      "metadata": {
        "colab": {
          "base_uri": "https://localhost:8080/"
        },
        "id": "_bwl9C71hpmy",
        "outputId": "6a574648-9fd6-4526-ff6f-34192214a3cf"
      },
      "execution_count": null,
      "outputs": [
        {
          "output_type": "stream",
          "name": "stdout",
          "text": [
            "[1th]  수퍼스타 블록버스터의 모범 답안\n",
            "[2th]  ‘리얼’ 톰 크루즈\n",
            "[3th]  순도 100% 오락 영화란 이런 것\n",
            "[4th]  팬데믹 시대에 착륙한 최고의 블록버스터\n"
          ]
        }
      ]
    },
    {
      "cell_type": "code",
      "source": [
        "# 리뷰 내용 출력\n",
        "count=0\n",
        "for li in lis2:\n",
        "    count += 1\n",
        "    print(f\"[{count}th] \",  li.string)"
      ],
      "metadata": {
        "id": "qnkwhhJsh8rP",
        "colab": {
          "base_uri": "https://localhost:8080/"
        },
        "outputId": "3c115cab-ddc1-4d1e-fc2d-7fc22c95ff74"
      },
      "execution_count": null,
      "outputs": [
        {
          "output_type": "stream",
          "name": "stdout",
          "text": [
            "[1th]  은 톰 크루즈 그 자체다. 새로운 프랜차이즈가 아니라 자신을 스타덤에 올렸던 36년 전 작품의 속편으로, 세상에 없던 방식이라기보다 정석 그대로 전설을 새로 쓴 수퍼스타를 향한 애정과 지지를 보낼 수밖에 없다. 여전한 현역이 새로운 세대를 존중하며 ‘골동품’으로 불가능의 벽을 넘는 이야기 안에는 전통적 블록버스터의 방식으로 일군 정직한 쾌감이 있다. 오래된 것이 반드시 낡은 것만은 아니다. 스크린은 여전한 경외감의 대상일 수 있다. 톰 크루즈의 말처럼 우리는 이 영화를 보고 울어도 된다. 그건 각자의 자리에서 속도를 견디며 인생을 조종하는 사람이 느낄 수 있는 최고의 감흥이다.\n",
            "[2th]  톰 크루즈는 내한 기자회견에서 [탑건]을 보고 속편을 기다렸던 중년 관객들에게 “울어도 된다. 여러분을 위한 것”이라고 했지만 [탑건: 매버릭]은 세대를 막론하고 톰 크루즈가 헌신한 리얼 액션에빠져들게 한다. 전투기들끼리의 근접 공중전과 고공비행 등 화려한 항공 액션은 일반 상영관도 4D 상영관으로 느끼게 만들 정도. 톰 크루즈가 10G의 중력가속도를 견디고 전투기를 몰면서까지 구현하려던 실감이 관객에게 고스란히 체험된다.\n",
            "[3th]  이 뭉클하기 그지없는 순도 100%의 오락 영화는 35년 전 을 기억하는 올드팬에게 어떻게 다가가야 하는지, 을 모르는 세대들을 어떤 전략으로 공략해야 하는지를 간파하고 있을 뿐 아니라, 관객이 항공 액션 블록버스터에 기대하는 활력과 흥분과 스펙터클까지 잡아채고 있다. 후반 30분 동안 펼쳐지는 아드레날린 가득 찬 아날로그 전투 액션이 특히나 압도적! 두근거리는 공중 곡예에 스릴을 더하는 것은 위험천만한 상황을 견디고 있는 인간의 육체, 톰 크루즈라는 피사체다. 그러니까 이건 파일럿계의 전설인 매버릭에 대한 이야기이자, 영화계 리얼리티의 마지막 등불 같은 존재 톰 크루즈에 대한 기록이다.\n",
            "[4th]  톰 크루즈가 자신을 세계적 스타로 만든 1980년대 히트작 (1986) 리메이크 소식을 알렸을 때, 이 정도의 감흥을 주는 엄청난 영화가 탄생할 줄은 몰랐다. 이미 최고 반열에 오른 스타가 아직도 도전을 마다 않고, 기대를 뛰어넘어 새로운 성취를 이뤄내는 모습을 지켜보는 건 관객에게 기쁨이자 감동이다. 톰 크루즈와 제작진이 최고의 엔터테인먼트를 선사하고자 어떻게 일사불란하게 움직였는지 영화 시작부터 끝까지 생생하게 체감할 수 있다. 팬데믹 이후 극장에서 느낄수 있는 최고의 위안이기도 하다. 이왕이면 큰 화면, 사운드 특화관에서 보기를 권한다.\n"
          ]
        }
      ]
    },
    {
      "cell_type": "code",
      "source": [
        "# 리뷰 제목 리스트화\n",
        "\n",
        "rvt = []\n",
        "count=0\n",
        "for li in lis:\n",
        "    count += 1\n",
        "    rvt.append(li.string)\n",
        "\n",
        "rvt"
      ],
      "metadata": {
        "colab": {
          "base_uri": "https://localhost:8080/"
        },
        "id": "fP5Be4q4xb9R",
        "outputId": "5fb4d94a-bf17-4b2f-ff02-6eb0526e5e09"
      },
      "execution_count": null,
      "outputs": [
        {
          "output_type": "execute_result",
          "data": {
            "text/plain": [
              "['수퍼스타 블록버스터의 모범 답안',\n",
              " '‘리얼’ 톰 크루즈',\n",
              " '순도 100% 오락 영화란 이런 것',\n",
              " '팬데믹 시대에 착륙한 최고의 블록버스터']"
            ]
          },
          "metadata": {},
          "execution_count": 18
        }
      ]
    },
    {
      "cell_type": "code",
      "source": [
        "# 리뷰 내용 리스트화\n",
        "\n",
        "rvc = []\n",
        "count=0\n",
        "for li in lis2:\n",
        "    count += 1\n",
        "    rvc.append(li.string)\n",
        "\n",
        "rvc"
      ],
      "metadata": {
        "colab": {
          "base_uri": "https://localhost:8080/"
        },
        "id": "GSQcWBIUxtxS",
        "outputId": "1ea73853-fe35-4f13-bd17-481fb9bf4c3d"
      },
      "execution_count": null,
      "outputs": [
        {
          "output_type": "execute_result",
          "data": {
            "text/plain": [
              "['은 톰 크루즈 그 자체다. 새로운 프랜차이즈가 아니라 자신을 스타덤에 올렸던 36년 전 작품의 속편으로, 세상에 없던 방식이라기보다 정석 그대로 전설을 새로 쓴 수퍼스타를 향한 애정과 지지를 보낼 수밖에 없다. 여전한 현역이 새로운 세대를 존중하며 ‘골동품’으로 불가능의 벽을 넘는 이야기 안에는 전통적 블록버스터의 방식으로 일군 정직한 쾌감이 있다. 오래된 것이 반드시 낡은 것만은 아니다. 스크린은 여전한 경외감의 대상일 수 있다. 톰 크루즈의 말처럼 우리는 이 영화를 보고 울어도 된다. 그건 각자의 자리에서 속도를 견디며 인생을 조종하는 사람이 느낄 수 있는 최고의 감흥이다.',\n",
              " '톰 크루즈는 내한 기자회견에서 [탑건]을 보고 속편을 기다렸던 중년 관객들에게 “울어도 된다. 여러분을 위한 것”이라고 했지만 [탑건: 매버릭]은 세대를 막론하고 톰 크루즈가 헌신한 리얼 액션에빠져들게 한다. 전투기들끼리의 근접 공중전과 고공비행 등 화려한 항공 액션은 일반 상영관도 4D 상영관으로 느끼게 만들 정도. 톰 크루즈가 10G의 중력가속도를 견디고 전투기를 몰면서까지 구현하려던 실감이 관객에게 고스란히 체험된다.',\n",
              " '이 뭉클하기 그지없는 순도 100%의 오락 영화는 35년 전 을 기억하는 올드팬에게 어떻게 다가가야 하는지, 을 모르는 세대들을 어떤 전략으로 공략해야 하는지를 간파하고 있을 뿐 아니라, 관객이 항공 액션 블록버스터에 기대하는 활력과 흥분과 스펙터클까지 잡아채고 있다. 후반 30분 동안 펼쳐지는 아드레날린 가득 찬 아날로그 전투 액션이 특히나 압도적! 두근거리는 공중 곡예에 스릴을 더하는 것은 위험천만한 상황을 견디고 있는 인간의 육체, 톰 크루즈라는 피사체다. 그러니까 이건 파일럿계의 전설인 매버릭에 대한 이야기이자, 영화계 리얼리티의 마지막 등불 같은 존재 톰 크루즈에 대한 기록이다.',\n",
              " '톰 크루즈가 자신을 세계적 스타로 만든 1980년대 히트작 (1986) 리메이크 소식을 알렸을 때, 이 정도의 감흥을 주는 엄청난 영화가 탄생할 줄은 몰랐다. 이미 최고 반열에 오른 스타가 아직도 도전을 마다 않고, 기대를 뛰어넘어 새로운 성취를 이뤄내는 모습을 지켜보는 건 관객에게 기쁨이자 감동이다. 톰 크루즈와 제작진이 최고의 엔터테인먼트를 선사하고자 어떻게 일사불란하게 움직였는지 영화 시작부터 끝까지 생생하게 체감할 수 있다. 팬데믹 이후 극장에서 느낄수 있는 최고의 위안이기도 하다. 이왕이면 큰 화면, 사운드 특화관에서 보기를 권한다.']"
            ]
          },
          "metadata": {},
          "execution_count": 21
        }
      ]
    },
    {
      "cell_type": "code",
      "source": [
        "import pandas as pd\n",
        "\n",
        "df = pd.DataFrame()\n",
        "df"
      ],
      "metadata": {
        "colab": {
          "base_uri": "https://localhost:8080/",
          "height": 49
        },
        "id": "kVpm0obnxFlB",
        "outputId": "ea87dae8-719b-4ce5-9534-58dab6b460f5"
      },
      "execution_count": null,
      "outputs": [
        {
          "output_type": "execute_result",
          "data": {
            "text/plain": [
              "Empty DataFrame\n",
              "Columns: []\n",
              "Index: []"
            ],
            "text/html": [
              "\n",
              "  <div id=\"df-fb303794-aac6-49f4-a1d2-83bff52cfe9d\">\n",
              "    <div class=\"colab-df-container\">\n",
              "      <div>\n",
              "<style scoped>\n",
              "    .dataframe tbody tr th:only-of-type {\n",
              "        vertical-align: middle;\n",
              "    }\n",
              "\n",
              "    .dataframe tbody tr th {\n",
              "        vertical-align: top;\n",
              "    }\n",
              "\n",
              "    .dataframe thead th {\n",
              "        text-align: right;\n",
              "    }\n",
              "</style>\n",
              "<table border=\"1\" class=\"dataframe\">\n",
              "  <thead>\n",
              "    <tr style=\"text-align: right;\">\n",
              "      <th></th>\n",
              "    </tr>\n",
              "  </thead>\n",
              "  <tbody>\n",
              "  </tbody>\n",
              "</table>\n",
              "</div>\n",
              "      <button class=\"colab-df-convert\" onclick=\"convertToInteractive('df-fb303794-aac6-49f4-a1d2-83bff52cfe9d')\"\n",
              "              title=\"Convert this dataframe to an interactive table.\"\n",
              "              style=\"display:none;\">\n",
              "        \n",
              "  <svg xmlns=\"http://www.w3.org/2000/svg\" height=\"24px\"viewBox=\"0 0 24 24\"\n",
              "       width=\"24px\">\n",
              "    <path d=\"M0 0h24v24H0V0z\" fill=\"none\"/>\n",
              "    <path d=\"M18.56 5.44l.94 2.06.94-2.06 2.06-.94-2.06-.94-.94-2.06-.94 2.06-2.06.94zm-11 1L8.5 8.5l.94-2.06 2.06-.94-2.06-.94L8.5 2.5l-.94 2.06-2.06.94zm10 10l.94 2.06.94-2.06 2.06-.94-2.06-.94-.94-2.06-.94 2.06-2.06.94z\"/><path d=\"M17.41 7.96l-1.37-1.37c-.4-.4-.92-.59-1.43-.59-.52 0-1.04.2-1.43.59L10.3 9.45l-7.72 7.72c-.78.78-.78 2.05 0 2.83L4 21.41c.39.39.9.59 1.41.59.51 0 1.02-.2 1.41-.59l7.78-7.78 2.81-2.81c.8-.78.8-2.07 0-2.86zM5.41 20L4 18.59l7.72-7.72 1.47 1.35L5.41 20z\"/>\n",
              "  </svg>\n",
              "      </button>\n",
              "      \n",
              "  <style>\n",
              "    .colab-df-container {\n",
              "      display:flex;\n",
              "      flex-wrap:wrap;\n",
              "      gap: 12px;\n",
              "    }\n",
              "\n",
              "    .colab-df-convert {\n",
              "      background-color: #E8F0FE;\n",
              "      border: none;\n",
              "      border-radius: 50%;\n",
              "      cursor: pointer;\n",
              "      display: none;\n",
              "      fill: #1967D2;\n",
              "      height: 32px;\n",
              "      padding: 0 0 0 0;\n",
              "      width: 32px;\n",
              "    }\n",
              "\n",
              "    .colab-df-convert:hover {\n",
              "      background-color: #E2EBFA;\n",
              "      box-shadow: 0px 1px 2px rgba(60, 64, 67, 0.3), 0px 1px 3px 1px rgba(60, 64, 67, 0.15);\n",
              "      fill: #174EA6;\n",
              "    }\n",
              "\n",
              "    [theme=dark] .colab-df-convert {\n",
              "      background-color: #3B4455;\n",
              "      fill: #D2E3FC;\n",
              "    }\n",
              "\n",
              "    [theme=dark] .colab-df-convert:hover {\n",
              "      background-color: #434B5C;\n",
              "      box-shadow: 0px 1px 3px 1px rgba(0, 0, 0, 0.15);\n",
              "      filter: drop-shadow(0px 1px 2px rgba(0, 0, 0, 0.3));\n",
              "      fill: #FFFFFF;\n",
              "    }\n",
              "  </style>\n",
              "\n",
              "      <script>\n",
              "        const buttonEl =\n",
              "          document.querySelector('#df-fb303794-aac6-49f4-a1d2-83bff52cfe9d button.colab-df-convert');\n",
              "        buttonEl.style.display =\n",
              "          google.colab.kernel.accessAllowed ? 'block' : 'none';\n",
              "\n",
              "        async function convertToInteractive(key) {\n",
              "          const element = document.querySelector('#df-fb303794-aac6-49f4-a1d2-83bff52cfe9d');\n",
              "          const dataTable =\n",
              "            await google.colab.kernel.invokeFunction('convertToInteractive',\n",
              "                                                     [key], {});\n",
              "          if (!dataTable) return;\n",
              "\n",
              "          const docLinkHtml = 'Like what you see? Visit the ' +\n",
              "            '<a target=\"_blank\" href=https://colab.research.google.com/notebooks/data_table.ipynb>data table notebook</a>'\n",
              "            + ' to learn more about interactive tables.';\n",
              "          element.innerHTML = '';\n",
              "          dataTable['output_type'] = 'display_data';\n",
              "          await google.colab.output.renderOutput(dataTable, element);\n",
              "          const docLink = document.createElement('div');\n",
              "          docLink.innerHTML = docLinkHtml;\n",
              "          element.appendChild(docLink);\n",
              "        }\n",
              "      </script>\n",
              "    </div>\n",
              "  </div>\n",
              "  "
            ]
          },
          "metadata": {},
          "execution_count": 17
        }
      ]
    },
    {
      "cell_type": "code",
      "source": [
        "df['제목'] = rvt\n",
        "df['내용'] = rvc\n",
        "df"
      ],
      "metadata": {
        "colab": {
          "base_uri": "https://localhost:8080/",
          "height": 175
        },
        "id": "7t5UPLVWxNVG",
        "outputId": "bb01eaed-6695-462c-d02b-fb488a64e022"
      },
      "execution_count": null,
      "outputs": [
        {
          "output_type": "execute_result",
          "data": {
            "text/plain": [
              "                      제목                                                 내용\n",
              "0      수퍼스타 블록버스터의 모범 답안  은 톰 크루즈 그 자체다. 새로운 프랜차이즈가 아니라 자신을 스타덤에 올렸던 36년...\n",
              "1             ‘리얼’ 톰 크루즈  톰 크루즈는 내한 기자회견에서 [탑건]을 보고 속편을 기다렸던 중년 관객들에게 “울...\n",
              "2    순도 100% 오락 영화란 이런 것  이 뭉클하기 그지없는 순도 100%의 오락 영화는 35년 전 을 기억하는 올드팬에게...\n",
              "3  팬데믹 시대에 착륙한 최고의 블록버스터  톰 크루즈가 자신을 세계적 스타로 만든 1980년대 히트작 (1986) 리메이크 소..."
            ],
            "text/html": [
              "\n",
              "  <div id=\"df-4838317a-7265-4c8c-bbce-8c93edbeef96\">\n",
              "    <div class=\"colab-df-container\">\n",
              "      <div>\n",
              "<style scoped>\n",
              "    .dataframe tbody tr th:only-of-type {\n",
              "        vertical-align: middle;\n",
              "    }\n",
              "\n",
              "    .dataframe tbody tr th {\n",
              "        vertical-align: top;\n",
              "    }\n",
              "\n",
              "    .dataframe thead th {\n",
              "        text-align: right;\n",
              "    }\n",
              "</style>\n",
              "<table border=\"1\" class=\"dataframe\">\n",
              "  <thead>\n",
              "    <tr style=\"text-align: right;\">\n",
              "      <th></th>\n",
              "      <th>제목</th>\n",
              "      <th>내용</th>\n",
              "    </tr>\n",
              "  </thead>\n",
              "  <tbody>\n",
              "    <tr>\n",
              "      <th>0</th>\n",
              "      <td>수퍼스타 블록버스터의 모범 답안</td>\n",
              "      <td>은 톰 크루즈 그 자체다. 새로운 프랜차이즈가 아니라 자신을 스타덤에 올렸던 36년...</td>\n",
              "    </tr>\n",
              "    <tr>\n",
              "      <th>1</th>\n",
              "      <td>‘리얼’ 톰 크루즈</td>\n",
              "      <td>톰 크루즈는 내한 기자회견에서 [탑건]을 보고 속편을 기다렸던 중년 관객들에게 “울...</td>\n",
              "    </tr>\n",
              "    <tr>\n",
              "      <th>2</th>\n",
              "      <td>순도 100% 오락 영화란 이런 것</td>\n",
              "      <td>이 뭉클하기 그지없는 순도 100%의 오락 영화는 35년 전 을 기억하는 올드팬에게...</td>\n",
              "    </tr>\n",
              "    <tr>\n",
              "      <th>3</th>\n",
              "      <td>팬데믹 시대에 착륙한 최고의 블록버스터</td>\n",
              "      <td>톰 크루즈가 자신을 세계적 스타로 만든 1980년대 히트작 (1986) 리메이크 소...</td>\n",
              "    </tr>\n",
              "  </tbody>\n",
              "</table>\n",
              "</div>\n",
              "      <button class=\"colab-df-convert\" onclick=\"convertToInteractive('df-4838317a-7265-4c8c-bbce-8c93edbeef96')\"\n",
              "              title=\"Convert this dataframe to an interactive table.\"\n",
              "              style=\"display:none;\">\n",
              "        \n",
              "  <svg xmlns=\"http://www.w3.org/2000/svg\" height=\"24px\"viewBox=\"0 0 24 24\"\n",
              "       width=\"24px\">\n",
              "    <path d=\"M0 0h24v24H0V0z\" fill=\"none\"/>\n",
              "    <path d=\"M18.56 5.44l.94 2.06.94-2.06 2.06-.94-2.06-.94-.94-2.06-.94 2.06-2.06.94zm-11 1L8.5 8.5l.94-2.06 2.06-.94-2.06-.94L8.5 2.5l-.94 2.06-2.06.94zm10 10l.94 2.06.94-2.06 2.06-.94-2.06-.94-.94-2.06-.94 2.06-2.06.94z\"/><path d=\"M17.41 7.96l-1.37-1.37c-.4-.4-.92-.59-1.43-.59-.52 0-1.04.2-1.43.59L10.3 9.45l-7.72 7.72c-.78.78-.78 2.05 0 2.83L4 21.41c.39.39.9.59 1.41.59.51 0 1.02-.2 1.41-.59l7.78-7.78 2.81-2.81c.8-.78.8-2.07 0-2.86zM5.41 20L4 18.59l7.72-7.72 1.47 1.35L5.41 20z\"/>\n",
              "  </svg>\n",
              "      </button>\n",
              "      \n",
              "  <style>\n",
              "    .colab-df-container {\n",
              "      display:flex;\n",
              "      flex-wrap:wrap;\n",
              "      gap: 12px;\n",
              "    }\n",
              "\n",
              "    .colab-df-convert {\n",
              "      background-color: #E8F0FE;\n",
              "      border: none;\n",
              "      border-radius: 50%;\n",
              "      cursor: pointer;\n",
              "      display: none;\n",
              "      fill: #1967D2;\n",
              "      height: 32px;\n",
              "      padding: 0 0 0 0;\n",
              "      width: 32px;\n",
              "    }\n",
              "\n",
              "    .colab-df-convert:hover {\n",
              "      background-color: #E2EBFA;\n",
              "      box-shadow: 0px 1px 2px rgba(60, 64, 67, 0.3), 0px 1px 3px 1px rgba(60, 64, 67, 0.15);\n",
              "      fill: #174EA6;\n",
              "    }\n",
              "\n",
              "    [theme=dark] .colab-df-convert {\n",
              "      background-color: #3B4455;\n",
              "      fill: #D2E3FC;\n",
              "    }\n",
              "\n",
              "    [theme=dark] .colab-df-convert:hover {\n",
              "      background-color: #434B5C;\n",
              "      box-shadow: 0px 1px 3px 1px rgba(0, 0, 0, 0.15);\n",
              "      filter: drop-shadow(0px 1px 2px rgba(0, 0, 0, 0.3));\n",
              "      fill: #FFFFFF;\n",
              "    }\n",
              "  </style>\n",
              "\n",
              "      <script>\n",
              "        const buttonEl =\n",
              "          document.querySelector('#df-4838317a-7265-4c8c-bbce-8c93edbeef96 button.colab-df-convert');\n",
              "        buttonEl.style.display =\n",
              "          google.colab.kernel.accessAllowed ? 'block' : 'none';\n",
              "\n",
              "        async function convertToInteractive(key) {\n",
              "          const element = document.querySelector('#df-4838317a-7265-4c8c-bbce-8c93edbeef96');\n",
              "          const dataTable =\n",
              "            await google.colab.kernel.invokeFunction('convertToInteractive',\n",
              "                                                     [key], {});\n",
              "          if (!dataTable) return;\n",
              "\n",
              "          const docLinkHtml = 'Like what you see? Visit the ' +\n",
              "            '<a target=\"_blank\" href=https://colab.research.google.com/notebooks/data_table.ipynb>data table notebook</a>'\n",
              "            + ' to learn more about interactive tables.';\n",
              "          element.innerHTML = '';\n",
              "          dataTable['output_type'] = 'display_data';\n",
              "          await google.colab.output.renderOutput(dataTable, element);\n",
              "          const docLink = document.createElement('div');\n",
              "          docLink.innerHTML = docLinkHtml;\n",
              "          element.appendChild(docLink);\n",
              "        }\n",
              "      </script>\n",
              "    </div>\n",
              "  </div>\n",
              "  "
            ]
          },
          "metadata": {},
          "execution_count": 22
        }
      ]
    },
    {
      "cell_type": "code",
      "source": [
        ""
      ],
      "metadata": {
        "id": "5Oil6VVuyBdo"
      },
      "execution_count": null,
      "outputs": []
    }
  ]
}